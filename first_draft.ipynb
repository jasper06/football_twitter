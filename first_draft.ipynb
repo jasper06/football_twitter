{
 "cells": [
  {
   "cell_type": "code",
   "execution_count": 15,
   "metadata": {},
   "outputs": [
    {
     "name": "stdout",
     "output_type": "stream",
     "text": [
      "{'model': 'llama3.1', 'created_at': '2024-08-27T11:16:50.221833Z', 'response': '{ \\n\"relevant\": \"no\", \\n\"reason\": \"the post is about football clubs in general, not specifically about Excelsior\" }', 'done': True, 'done_reason': 'stop', 'context': [128006, 882, 128007, 271, 40, 2846, 3411, 369, 8158, 922, 39995, 2053, 2521, 320, 44066, 14183, 311, 439, 39995, 2053, 2521, 11, 39995, 2053, 2521, 98877, 477, 39995, 2053, 2521, 6634, 309, 705, 264, 9141, 6469, 430, 50631, 323, 31878, 4311, 13, 358, 2846, 14918, 8173, 304, 1274, 5605, 6392, 922, 39995, 2053, 2521, 11, 4754, 502, 4311, 477, 9564, 4311, 13, 4718, 3560, 374, 311, 4141, 704, 40815, 24025, 13, 5321, 3477, 420, 12072, 314, 2037, 92, 323, 6013, 10035, 477, 912, 304, 420, 3024, 3645, 25, 314, 5018, 98673, 3332, 498, 330, 20489, 63466, 3500, 128009, 128006, 78191, 128007, 271, 90, 720, 1, 98673, 794, 330, 2201, 498, 720, 1, 20489, 794, 330, 1820, 1772, 374, 922, 9141, 19424, 304, 4689, 11, 539, 11951, 922, 39995, 2053, 2521, 1, 335], 'total_duration': 1918286917, 'load_duration': 1085396459, 'prompt_eval_count': 102, 'prompt_eval_duration': 276527000, 'eval_count': 31, 'eval_duration': 553296000}\n"
     ]
    }
   ],
   "source": [
    "import requests\n",
    "\n",
    "# Define the API URL\n",
    "api_url = \"http://127.0.0.1:11434/api/generate\"\n",
    "\n",
    "# Define the prompt\n",
    "message = \"\"\"#michielkramer Ga lekker naar Excelsior man. Grote kans op speeltijd en weer terug in het mooie Rotterdam...'Kramer weggelopen van het trainingsveld: weigert excuses aan te bieden aan teamgenoten' https://msn.com/nl-nl/sport/other/kramer-weggelopen-van-het-trainingsveld-weigert-excuses-aan-te-bieden-aan-teamgenoten/ar-AA1ps1rO?ocid=socialshare&pc=LCTS&cvid=35b2755b442c41e29019b63e582a4563&ei=32\"\"\"  \n",
    "prompt = \"\"\"I'm looking for posts about Excelsior (usually referred to as Excelsior, Excelsior Rotterdam or Excelsiorrdam), a football club that buys and sells players. I'm mainly interested in people saying stuff about Excelsior, potential new players or leaving players. Your role is to filter out irrelevant tweets. Please review this tweet {message} and respond yes or no in this json format: {{\"relevant\":\"\", \"reason\":\"\"}}\"\"\"\n",
    "\n",
    "# Make the POST request to the API\n",
    "response = requests.post(\n",
    "    api_url,\n",
    "    headers={\"Content-Type\": \"application/json\"},\n",
    "    json={\"model\": \"llama3.1\", \"prompt\": prompt, \"format\": \"json\", \"stream\": False},\n",
    ")\n",
    "\n",
    "# Handle the response\n",
    "if response.status_code == 200:\n",
    "    print(response.json())\n",
    "else:\n",
    "    print(f\"Request failed with status code {response.status_code}\")"
   ]
  },
  {
   "cell_type": "code",
   "execution_count": 20,
   "metadata": {},
   "outputs": [
    {
     "name": "stdout",
     "output_type": "stream",
     "text": [
      "{'model': 'llama3.1', 'created_at': '2024-08-27T11:19:28.120928Z', 'response': '{\"relevant\":\"no\", \"reason\":\"the tweet is about Michiel Kramer, not specifically about Excelsior Rotterdam\"}', 'done': True, 'done_reason': 'stop', 'context': [128006, 882, 128007, 271, 40, 2846, 3411, 369, 8158, 922, 39995, 2053, 2521, 320, 44066, 14183, 311, 439, 39995, 2053, 2521, 11, 39995, 2053, 2521, 98877, 477, 39995, 2053, 2521, 6634, 309, 705, 264, 9141, 6469, 430, 374, 10815, 311, 502, 4311, 477, 9564, 4311, 13, 358, 2846, 14918, 8173, 304, 1274, 5605, 6392, 922, 39995, 2053, 2521, 11, 4754, 502, 4311, 477, 9564, 4311, 13, 1666, 264, 1176, 3094, 358, 1390, 311, 1304, 2771, 430, 279, 2723, 449, 279, 12072, 374, 922, 264, 9141, 6469, 11, 323, 2132, 422, 1070, 2643, 387, 264, 2723, 449, 39995, 2053, 2521, 13, 5321, 3477, 420, 12072, 674, 76, 718, 13327, 74, 47469, 18879, 77647, 30948, 39995, 2053, 2521, 893, 13, 480, 5646, 69385, 1200, 2395, 3903, 33323, 665, 66250, 90601, 304, 9194, 76753, 98877, 74438, 42, 47469, 584, 14736, 301, 2569, 5355, 9194, 5542, 826, 85, 789, 25, 584, 343, 531, 55586, 18962, 1028, 98576, 268, 18962, 2128, 4469, 66728, 6, 3788, 1129, 1026, 77, 916, 9809, 75, 5392, 75, 2754, 403, 14, 1605, 14441, 47469, 2695, 29468, 301, 2569, 8437, 276, 2902, 295, 10398, 467, 826, 85, 789, 62441, 343, 531, 98033, 4881, 7561, 276, 49893, 1481, 1142, 268, 7561, 276, 43942, 4469, 66728, 96520, 64764, 16, 1725, 16, 81, 46, 30, 511, 307, 14481, 2772, 19930, 5, 4080, 69951, 95837, 5, 66, 1325, 28, 1758, 65, 14417, 20, 65, 20502, 66, 3174, 68, 13754, 777, 65, 5495, 68, 23670, 64, 10961, 18, 5, 20568, 28, 843, 323, 6013, 10035, 477, 912, 304, 420, 3024, 3645, 25, 5324, 98673, 3332, 498, 330, 20489, 63466, 92, 128009, 128006, 78191, 128007, 271, 5018, 98673, 3332, 2201, 498, 330, 20489, 3332, 1820, 12072, 374, 922, 5384, 13327, 90577, 11, 539, 11951, 922, 39995, 2053, 2521, 98877, 9388], 'total_duration': 2452345000, 'load_duration': 1416245417, 'prompt_eval_count': 269, 'prompt_eval_duration': 582212000, 'eval_count': 25, 'eval_duration': 451789000}\n"
     ]
    }
   ],
   "source": [
    "import requests\n",
    "\n",
    "# Define the API URL\n",
    "api_url = \"http://127.0.0.1:11434/api/generate\"\n",
    "\n",
    "# Define the message\n",
    "message = \"\"\"#michielkramer Ga lekker naar Excelsior man. Grote kans op speeltijd en weer terug in het mooie Rotterdam...'Kramer weggelopen van het trainingsveld: weigert excuses aan te bieden aan teamgenoten' https://msn.com/nl-nl/sport/other/kramer-weggelopen-van-het-trainingsveld-weigert-excuses-aan-te-bieden-aan-teamgenoten/ar-AA1ps1rO?ocid=socialshare&pc=LCTS&cvid=35b2755b442c41e29019b63e582a4563&ei=32\"\"\"\n",
    "\n",
    "# Define the prompt using an f-string to include the message\n",
    "prompt = f\"\"\"I'm looking for posts about Excelsior (usually referred to as Excelsior, Excelsior Rotterdam or Excelsiorrdam), a football club that is linked to new players or leaving players. I'm mainly interested in people saying stuff about Excelsior, potential new players or leaving players. As a first step I want to make sure that the link with the tweet is about a football club, and second if there might be a link with Excelsior. Please review this tweet {message} and respond yes or no in this json format: {{\"relevant\":\"\", \"reason\":\"\"}}\"\"\"\n",
    "\n",
    "# Make the POST request to the API\n",
    "response = requests.post(\n",
    "    api_url,\n",
    "    headers={\"Content-Type\": \"application/json\"},\n",
    "    json={\"model\": \"llama3.1\", \"prompt\": prompt, \"format\": \"json\", \"stream\": False},\n",
    ")\n",
    "\n",
    "# Handle the response\n",
    "if response.status_code == 200:\n",
    "    print(response.json())\n",
    "else:\n",
    "    print(f\"Request failed with status code {response.status_code}\")"
   ]
  },
  {
   "cell_type": "code",
   "execution_count": 21,
   "metadata": {},
   "outputs": [
    {
     "name": "stdout",
     "output_type": "stream",
     "text": [
      "I'm looking for posts about Excelsior (usually referred to as Excelsior, Excelsior Rotterdam or Excelsiorrdam), a football club that is linked to new players or leaving players. I'm mainly interested in people saying stuff about Excelsior, potential new players or leaving players. As a first step I want to make sure that the link with the tweet is about a football club, and second if there might be a link with Excelsior. Please review this tweet #michielkramer Ga lekker naar Excelsior man. Grote kans op speeltijd en weer terug in het mooie Rotterdam...'Kramer weggelopen van het trainingsveld: weigert excuses aan te bieden aan teamgenoten' https://msn.com/nl-nl/sport/other/kramer-weggelopen-van-het-trainingsveld-weigert-excuses-aan-te-bieden-aan-teamgenoten/ar-AA1ps1rO?ocid=socialshare&pc=LCTS&cvid=35b2755b442c41e29019b63e582a4563&ei=32 and respond yes or no in this json format: {\"relevant\":\"\", \"reason\":\"\"}\n"
     ]
    }
   ],
   "source": [
    "print(prompt)"
   ]
  },
  {
   "cell_type": "code",
   "execution_count": null,
   "metadata": {},
   "outputs": [],
   "source": []
  }
 ],
 "metadata": {
  "kernelspec": {
   "display_name": "hiidden",
   "language": "python",
   "name": "python3"
  },
  "language_info": {
   "codemirror_mode": {
    "name": "ipython",
    "version": 3
   },
   "file_extension": ".py",
   "mimetype": "text/x-python",
   "name": "python",
   "nbconvert_exporter": "python",
   "pygments_lexer": "ipython3",
   "version": "3.12.2"
  }
 },
 "nbformat": 4,
 "nbformat_minor": 2
}
