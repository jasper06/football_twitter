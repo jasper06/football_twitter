{
 "cells": [
  {
   "cell_type": "code",
   "execution_count": 15,
   "metadata": {},
   "outputs": [
    {
     "name": "stdout",
     "output_type": "stream",
     "text": [
      "{'model': 'llama3.1', 'created_at': '2024-08-27T11:16:50.221833Z', 'response': '{ \\n\"relevant\": \"no\", \\n\"reason\": \"the post is about football clubs in general, not specifically about Excelsior\" }', 'done': True, 'done_reason': 'stop', 'context': [128006, 882, 128007, 271, 40, 2846, 3411, 369, 8158, 922, 39995, 2053, 2521, 320, 44066, 14183, 311, 439, 39995, 2053, 2521, 11, 39995, 2053, 2521, 98877, 477, 39995, 2053, 2521, 6634, 309, 705, 264, 9141, 6469, 430, 50631, 323, 31878, 4311, 13, 358, 2846, 14918, 8173, 304, 1274, 5605, 6392, 922, 39995, 2053, 2521, 11, 4754, 502, 4311, 477, 9564, 4311, 13, 4718, 3560, 374, 311, 4141, 704, 40815, 24025, 13, 5321, 3477, 420, 12072, 314, 2037, 92, 323, 6013, 10035, 477, 912, 304, 420, 3024, 3645, 25, 314, 5018, 98673, 3332, 498, 330, 20489, 63466, 3500, 128009, 128006, 78191, 128007, 271, 90, 720, 1, 98673, 794, 330, 2201, 498, 720, 1, 20489, 794, 330, 1820, 1772, 374, 922, 9141, 19424, 304, 4689, 11, 539, 11951, 922, 39995, 2053, 2521, 1, 335], 'total_duration': 1918286917, 'load_duration': 1085396459, 'prompt_eval_count': 102, 'prompt_eval_duration': 276527000, 'eval_count': 31, 'eval_duration': 553296000}\n"
     ]
    }
   ],
   "source": [
    "import requests\n",
    "\n",
    "# Define the API URL\n",
    "api_url = \"http://127.0.0.1:11434/api/generate\"\n",
    "\n",
    "# Define the prompt\n",
    "message = \"\"\"#michielkramer Ga lekker naar Excelsior man. Grote kans op speeltijd en weer terug in het mooie Rotterdam...'Kramer weggelopen van het trainingsveld: weigert excuses aan te bieden aan teamgenoten' https://msn.com/nl-nl/sport/other/kramer-weggelopen-van-het-trainingsveld-weigert-excuses-aan-te-bieden-aan-teamgenoten/ar-AA1ps1rO?ocid=socialshare&pc=LCTS&cvid=35b2755b442c41e29019b63e582a4563&ei=32\"\"\"  \n",
    "prompt = \"\"\"I'm looking for posts about Excelsior (usually referred to as Excelsior, Excelsior Rotterdam or Excelsiorrdam), a football club that buys and sells players. I'm mainly interested in people saying stuff about Excelsior, potential new players or leaving players. Your role is to filter out irrelevant tweets. Please review this tweet {message} and respond yes or no in this json format: {{\"relevant\":\"\", \"reason\":\"\"}}\"\"\"\n",
    "\n",
    "# Make the POST request to the API\n",
    "response = requests.post(\n",
    "    api_url,\n",
    "    headers={\"Content-Type\": \"application/json\"},\n",
    "    json={\"model\": \"llama3.1\", \"prompt\": prompt, \"format\": \"json\", \"stream\": False},\n",
    ")\n",
    "\n",
    "# Handle the response\n",
    "if response.status_code == 200:\n",
    "    print(response.json())\n",
    "else:\n",
    "    print(f\"Request failed with status code {response.status_code}\")"
   ]
  },
  {
   "cell_type": "code",
   "execution_count": 26,
   "metadata": {},
   "outputs": [
    {
     "name": "stdout",
     "output_type": "stream",
     "text": [
      "{'model': 'llama3.1', 'created_at': '2024-08-27T12:28:01.68933Z', 'response': '{\"relevant\":\"no\", \"reason\":\"The tweet is about BK Häcken, not Excelsior Rotterdam.\"}', 'done': True, 'done_reason': 'stop', 'context': [128006, 882, 128007, 271, 40, 2846, 3411, 369, 8158, 922, 39995, 2053, 2521, 320, 44066, 14183, 311, 439, 39995, 2053, 2521, 11, 39995, 2053, 2521, 98877, 477, 39995, 2053, 2521, 6634, 309, 705, 264, 9141, 6469, 430, 374, 10815, 311, 502, 4311, 477, 9564, 4311, 13, 358, 2846, 14918, 8173, 304, 1274, 5605, 6392, 922, 39995, 2053, 2521, 11, 4754, 502, 4311, 477, 9564, 4311, 13, 1666, 264, 1176, 3094, 358, 1390, 311, 1304, 2771, 430, 279, 2723, 449, 279, 12072, 374, 922, 264, 9141, 6469, 11, 323, 2132, 422, 1070, 2643, 387, 264, 2723, 449, 39995, 2053, 2521, 13, 5321, 3477, 420, 12072, 90111, 220, 2366, 16, 1940, 7430, 19538, 9292, 17053, 77882, 91693, 41288, 11, 78128, 19538, 14435, 12184, 12222, 22171, 1441, 14031, 2427, 37668, 220, 2366, 17, 13, 469, 1064, 665, 67921, 513, 30362, 602, 39995, 2053, 2521, 98877, 19106, 19538, 11148, 9292, 326, 39831, 12222, 15592, 42, 11, 1812, 665, 13338, 79, 2091, 602, 1860, 2629, 1169, 13, 674, 38, 77, 85163, 323, 6013, 10035, 477, 912, 304, 420, 3024, 3645, 25, 5324, 98673, 3332, 498, 330, 20489, 63466, 92, 128009, 128006, 78191, 128007, 271, 5018, 98673, 3332, 2201, 498, 330, 20489, 3332, 791, 12072, 374, 922, 77882, 91693, 41288, 11, 539, 39995, 2053, 2521, 98877, 1210, 92], 'total_duration': 11276506625, 'load_duration': 10437390792, 'prompt_eval_count': 189, 'prompt_eval_duration': 404169000, 'eval_count': 24, 'eval_duration': 431245000}\n"
     ]
    }
   ],
   "source": [
    "import requests\n",
    "\n",
    "# Define the API URL\n",
    "api_url = \"http://127.0.0.1:11434/api/generate\"\n",
    "\n",
    "# Define the message\n",
    "# message = \"\"\"#michielkramer Ga lekker naar Excelsior man. Grote kans op speeltijd en weer terug in het mooie Rotterdam...'Kramer weggelopen van het trainingsveld: weigert excuses aan te bieden aan teamgenoten' https://msn.com/nl-nl/sport/other/kramer-weggelopen-van-het-trainingsveld-weigert-excuses-aan-te-bieden-aan-teamgenoten/ar-AA1ps1rO?ocid=socialshare&pc=LCTS&cvid=35b2755b442c41e29019b63e582a4563&ei=32\"\"\"\n",
    "message =\"\"\"december 2021 skrev han på för BK Häcken, där han bidrog till lagets SM-guld 2022. Efter en kort sejour i Excelsior Rotterdam är han nu på lån till AIK, med en köpoption i avtalet. #Gnaget\"\"\"\n",
    "# Define the prompt using an f-string to include the message\n",
    "prompt = f\"\"\"I'm looking for posts about Excelsior (usually referred to as Excelsior, Excelsior Rotterdam or Excelsiorrdam), a football club that is linked to new players or leaving players. I'm mainly interested in people saying stuff about Excelsior, potential new players or leaving players. As a first step I want to make sure that the link with the tweet is about a football club, and second if there might be a link with Excelsior. Please review this tweet {message} and respond yes or no in this json format: {{\"relevant\":\"\", \"reason\":\"\"}}\"\"\"\n",
    "\n",
    "# Make the POST request to the API\n",
    "response = requests.post(\n",
    "    api_url,\n",
    "    headers={\"Content-Type\": \"application/json\"},\n",
    "    json={\"model\": \"llama3.1\", \"prompt\": prompt, \"format\": \"json\", \"stream\": False},\n",
    ")\n",
    "\n",
    "# Handle the response\n",
    "if response.status_code == 200:\n",
    "    print(response.json())\n",
    "else:\n",
    "    print(f\"Request failed with status code {response.status_code}\")"
   ]
  },
  {
   "cell_type": "code",
   "execution_count": 23,
   "metadata": {},
   "outputs": [
    {
     "name": "stdout",
     "output_type": "stream",
     "text": [
      "I'm looking for posts about Excelsior (usually referred to as Excelsior, Excelsior Rotterdam or Excelsiorrdam), a football club that is linked to new players or leaving players. I'm mainly interested in people saying stuff about Excelsior, potential new players or leaving players. As a first step I want to make sure that the link with the tweet is about a football club, and second if there might be a link with Excelsior. Please review this tweet #michielkramer Ga lekker naar Excelsior man. Grote kans op speeltijd en weer terug in het mooie Rotterdam...'Kramer weggelopen van het trainingsveld: weigert excuses aan te bieden aan teamgenoten' https://msn.com/nl-nl/sport/other/kramer-weggelopen-van-het-trainingsveld-weigert-excuses-aan-te-bieden-aan-teamgenoten/ar-AA1ps1rO?ocid=socialshare&pc=LCTS&cvid=35b2755b442c41e29019b63e582a4563&ei=32 and respond yes or no in this json format: {\"relevant\":\"\", \"reason\":\"\"}\n"
     ]
    }
   ],
   "source": [
    "print(prompt)"
   ]
  },
  {
   "cell_type": "code",
   "execution_count": null,
   "metadata": {},
   "outputs": [],
   "source": []
  }
 ],
 "metadata": {
  "kernelspec": {
   "display_name": "hiidden",
   "language": "python",
   "name": "python3"
  },
  "language_info": {
   "codemirror_mode": {
    "name": "ipython",
    "version": 3
   },
   "file_extension": ".py",
   "mimetype": "text/x-python",
   "name": "python",
   "nbconvert_exporter": "python",
   "pygments_lexer": "ipython3",
   "version": "3.12.2"
  }
 },
 "nbformat": 4,
 "nbformat_minor": 2
}
